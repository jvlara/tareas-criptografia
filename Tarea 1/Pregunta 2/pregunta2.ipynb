{
 "metadata": {
  "language_info": {
   "codemirror_mode": {
    "name": "ipython",
    "version": 3
   },
   "file_extension": ".py",
   "mimetype": "text/x-python",
   "name": "python",
   "nbconvert_exporter": "python",
   "pygments_lexer": "ipython3",
   "version": "3.8.8"
  },
  "orig_nbformat": 2,
  "kernelspec": {
   "name": "python388jvsc74a57bd02b15d798df52e248af9cbc2fd5307d41da896353731254caa69567186e2e1549",
   "display_name": "Python 3.8.8 64-bit"
  }
 },
 "nbformat": 4,
 "nbformat_minor": 2,
 "cells": [
  {
   "source": [
    "# Tarea 1: Pregunta 2"
   ],
   "cell_type": "markdown",
   "metadata": {}
  },
  {
   "source": [
    "### Funciones auxiliares"
   ],
   "cell_type": "markdown",
   "metadata": {}
  },
  {
   "cell_type": "code",
   "execution_count": 1,
   "metadata": {},
   "outputs": [],
   "source": [
    "def transform_to_raw_binary(msg: str) -> int:\n",
    "    # Transforma un mensaje en un array de bits\n",
    "    int_array = bytearray(msg, 'utf-8')\n",
    "    integer_array = [to_bin_2(x) for x in int_array]\n",
    "    str_bin = \"\".join(integer_array)\n",
    "    return str_bin\n",
    "\n",
    "def hex_to_str(num):\n",
    "    # Transforma un numero a hexadecimal\n",
    "    return f\"{num:08x}\"\n",
    "\n",
    "def padding(str_bin: str) -> str:\n",
    "    # Función de padding de md5\n",
    "    i_len = len(str_bin) % 512\n",
    "    pad = \"\"\n",
    "    # Dependiendo del largo le añadimos el 1 con su respectivos 0\n",
    "    # hasta llegar a 448 mod 512\n",
    "    if i_len < 448:\n",
    "        pad += \"1\"\n",
    "        pad += \"0\" * (448-i_len-1)\n",
    "    elif i_len == 448:\n",
    "        pad += \"1\"\n",
    "        pad += \"0\" * 511\n",
    "    else:\n",
    "        x = 512-i_len+448\n",
    "        pad += \"1\"\n",
    "        pad += \"0\" * (x-1)\n",
    "    # añadimos el lenght en un largo de 64\n",
    "    largo = len(str_bin)\n",
    "    largoencoded = f'{largo:064b}'\n",
    "    # transformamos a little la representación y lo añadimos al mensaje original\n",
    "    pad += transform_to_little(largoencoded)\n",
    "    return str_bin + pad\n",
    "\n",
    "def to_bin_2(int10: int, with_b: bool = False) -> str:\n",
    "    # Tomamos un int y lo transformamos en binario representado en \n",
    "    # 8 bits\n",
    "    return f'{int10:08b}' if with_b == False else f'{int10:#08b}'\n",
    "\n",
    "def transform_to_little(secuencia: str) -> str:\n",
    "    # Tomamos cada byte y luego los damos vuelta\n",
    "    # un byte es 8 bits\n",
    "    if (len(secuencia) % 8) != 0:\n",
    "        raise Exception\n",
    "    little = []\n",
    "    for i in range(0, int(len(secuencia)/8)):\n",
    "        aux = secuencia[8*i: 8*(i+1)]\n",
    "        little.append(aux)\n",
    "    return \"\".join(little[::-1])\n",
    "\n",
    "# Funciones auxiliares sacadas de wikipedia en ingles para hacer el hasheo\n",
    "# &: and, |: or, ~:neg, ^: xor\n",
    "def F(b, c, d): \n",
    "    return (b & c) | (~b & d)\n",
    "def G(b, c, d): \n",
    "    return (b & d) | (c & ~d)\n",
    "def H(b, c, d): \n",
    "    return b ^ c ^ d\n",
    "def I(b, c, d): \n",
    "    return c ^ (b | ~d)\n",
    "# Suma modulo 2 la 32\n",
    "def mod_32_sum(a, b): \n",
    "    return (a + b) % pow(2, 32)\n",
    "# Shift left pero con rotación\n",
    "def left_rotate(x, n): \n",
    "    return (x << n) | (x >> (32 - n))\n"
   ]
  },
  {
   "source": [
    "### Función md5"
   ],
   "cell_type": "markdown",
   "metadata": {}
  },
  {
   "cell_type": "code",
   "execution_count": 2,
   "metadata": {},
   "outputs": [],
   "source": [
    "import math\n",
    "\n",
    "# Inspirado en wikipedia md5 versión ingles y paper de md5 original\n",
    "def custom_md5(msg: str, h0: int = 137269462086865085541390238039692956790) -> str:\n",
    "    A = h0 // pow(2, 32*3)\n",
    "    B = (h0 // pow(2, 32*2)) % pow(2,32)\n",
    "    C = (h0 // pow(2, 32)) % pow(2,32)\n",
    "    D = h0 % pow(2, 32)\n",
    "\n",
    "    binary_msg = transform_to_raw_binary(msg)\n",
    "    # Añadimos el padding\n",
    "    binary_msg = padding(binary_msg)\n",
    "    len_msg = len(binary_msg)\n",
    "    # Transformamos a little todas las palabras de 32 bits de largo en el mensaje padeado\n",
    "    binary_msg = \"\".join([transform_to_little(binary_msg[32*i:32*(i+1)]) for i in range(0, int(len_msg/32))])\n",
    "    if len_msg % 512 != 0:\n",
    "        raise ValueError(\"largo incorrecto\")\n",
    "    # Separamos los n mensajes de largo 512\n",
    "    mensajes_512 = [binary_msg[512*i:512*(i+1)] for i in range(0, int(len_msg/512))]\n",
    "    if len(\"\".join(mensajes_512)) != len(binary_msg):\n",
    "        raise ValueError(\"no coincide con el valor del mensaje\")\n",
    "    # inicializamos T con la formula de sen por 2 a la 32\n",
    "    T = [math.floor(abs(math.sin(i+1))*4294967296) for i in range(0, 64)]\n",
    "    # Auxiliares\n",
    "    AA = A\n",
    "    BB = B\n",
    "    CC = C\n",
    "    DD = D\n",
    "    \n",
    "    \n",
    "    for msj in mensajes_512:\n",
    "        if len(msj) != 512:\n",
    "            raise ValueError(\"Largo no puede ser distinto a 512\")\n",
    "\n",
    "        M = []\n",
    "        # Separamos mensaje en trozos de 32 bits\n",
    "        for i in range(0, int(len(msj)/32)):\n",
    "            aux = msj[int(32*i):int(32*(i+1))]\n",
    "            M.append(aux)\n",
    "        \n",
    "        # transformamos str a int \n",
    "        M = [int(i, 2) for i in M]\n",
    "        \n",
    "        # Tabla s con los numeros de cada paso -> ronda\n",
    "        S = {0: [7, 12, 17, 22], 1: [5, 9, 14, 20], 2: [4, 11, 16, 23], 3: [6, 10, 15, 21]}\n",
    "        \n",
    "        # proceso de hashing, 4 rondas de 16 pasos\n",
    "        for ronda in range(4*16):\n",
    "            if 0 <= ronda <= 15:\n",
    "                f = F(B, C, D)\n",
    "                paso = 0\n",
    "                g = ronda\n",
    "            elif 16 <= ronda <= 31:\n",
    "                f = G(B, C, D)\n",
    "                paso = 1\n",
    "                g = ((5 * ronda) + 1) % 16\n",
    "            elif 32 <= ronda <= 47:\n",
    "                f = H(B, C, D)\n",
    "                paso = 2\n",
    "                g = ((3 * ronda) + 5) % 16\n",
    "            elif 48 <= ronda <= 63:\n",
    "                f = I(B, C, D)\n",
    "                paso = 3\n",
    "                g = (7 * ronda) % 16\n",
    "            f = (f + M[g] + T[ronda] + A) % pow(2,32)\n",
    "            f = left_rotate(f, S[paso][ronda % 4])\n",
    "            A = D\n",
    "            D = C\n",
    "            C = B\n",
    "            B = mod_32_sum (B, f)\n",
    "\n",
    "        AA = mod_32_sum(AA, A)\n",
    "        BB = mod_32_sum(BB, B)\n",
    "        CC = mod_32_sum(CC, C)\n",
    "        DD = mod_32_sum(DD, D)\n",
    "    # Transformamos a little los registros y los printeamos como hexadecimal\n",
    "    la = int(transform_to_little(f\"{AA:032b}\"),2)\n",
    "    lb = int(transform_to_little(f\"{BB:032b}\"), 2)\n",
    "    lc = int(transform_to_little(f\"{CC:032b}\"), 2)\n",
    "    ld = int(transform_to_little(f\"{DD:032b}\"), 2)\n",
    "    \n",
    "    digest = \"\".join([f\"{la:0>8x}\", f\"{lb:0>8x}\", f\"{lc:0>8x}\", f\"{ld:0>8x}\"])\n",
    "    return digest\n"
   ]
  },
  {
   "source": [
    "### Resultados"
   ],
   "cell_type": "markdown",
   "metadata": {}
  },
  {
   "cell_type": "code",
   "execution_count": 4,
   "metadata": {},
   "outputs": [
    {
     "output_type": "stream",
     "name": "stdout",
     "text": [
      "4d186321c1a7f0f354b297e8914ab240\n"
     ]
    }
   ],
   "source": [
    "custom = custom_md5(\"hola\")\n",
    "print(custom)"
   ]
  },
  {
   "cell_type": "code",
   "execution_count": null,
   "metadata": {},
   "outputs": [],
   "source": []
  }
 ]
}