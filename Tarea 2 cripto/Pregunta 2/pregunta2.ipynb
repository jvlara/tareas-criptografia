{
 "metadata": {
  "language_info": {
   "codemirror_mode": {
    "name": "ipython",
    "version": 3
   },
   "file_extension": ".py",
   "mimetype": "text/x-python",
   "name": "python",
   "nbconvert_exporter": "python",
   "pygments_lexer": "ipython3",
   "version": "3.8.10"
  },
  "orig_nbformat": 4,
  "kernelspec": {
   "name": "python3",
   "display_name": "Python 3.8.10 64-bit"
  },
  "interpreter": {
   "hash": "2b15d798df52e248af9cbc2fd5307d41da896353731254caa69567186e2e1549"
  }
 },
 "nbformat": 4,
 "nbformat_minor": 2,
 "cells": [
  {
   "cell_type": "code",
   "execution_count": 1,
   "metadata": {},
   "outputs": [],
   "source": [
    "\n",
    "import random\n",
    "import sys \n",
    "\n",
    "# Para claves de largo 200+ el algoritmo tira recursion limit, si lo seteamos un poco mas alto funciona correctamente.\n",
    "sys.setrecursionlimit(3000)\n",
    "\n",
    "def miller_rabin(n: int, k: int) -> bool:\n",
    "    if n == 2:\n",
    "        return True\n",
    "    if n % 2 == 0:\n",
    "        return False\n",
    "    \n",
    "    # Transformar el n-1\n",
    "    d = n-1\n",
    "    r = 0\n",
    "    while d % 2 == 0:\n",
    "        r += 1\n",
    "        d = d // 2\n",
    "    # n = (2**r)*d +1 \n",
    "    \n",
    "    salir = 0\n",
    "    for i in range(k):\n",
    "        a = random.randint(2, n-2)\n",
    "        actual = exp_mod(a, d, n) # inicial\n",
    "        if actual == 1 or actual == n-1:\n",
    "            continue\n",
    "        # empezamos desde a elevado a d y vamos elevanto hasta llegar a (a ** n-1).\n",
    "        for _ in range(r-1):\n",
    "            actual = exp_mod(actual, 2, n)\n",
    "            if actual == n-1:\n",
    "                # nos la jugamos por primo\n",
    "                salir = 1\n",
    "                break\n",
    "        if salir == 1:\n",
    "            salir = 0\n",
    "            continue\n",
    "        # Si vimos puros 1 o cualquier cosa distinta a -1 en los r casos entonces llegamos aquí.\n",
    "        return False\n",
    "    return True\n",
    "            \n",
    "\n",
    "def generar_primo(l: int) -> int:\n",
    "    for i in range(3000):\n",
    "        r1 = expo(10, l-1)\n",
    "        r2 = expo(10, l) -1\n",
    "        a = random.randint(r1, r2)\n",
    "        if miller_rabin(a, 100):\n",
    "            return a\n"
   ]
  },
  {
   "cell_type": "code",
   "execution_count": 2,
   "metadata": {},
   "outputs": [],
   "source": [
    "\n",
    "def alg_ext_euclides(a: int, b:int) -> (int, int, int):\n",
    "    if b > a: raise Exception(\"El primer numero tiene que ser mayor al segundo\" )\n",
    "    if a <= 0: raise Exception(\"El primer numero tiene que ser mayor a 0\" )\n",
    "    r = [a, b]\n",
    "    s = [1, 0]\n",
    "    t = [0, 1]\n",
    "    \n",
    "    while r[1] != 0:\n",
    "        aux = r[0] // r[1]\n",
    "        r = [r[1], r[0] - aux * r[1]]\n",
    "        s = [s[1], s[0] - aux * s[1]]\n",
    "        t = [t[1], t[0] - aux * t[1]]\n",
    "        \n",
    "    return r[0], s[0], t[0]\n",
    "    \n",
    "\n",
    "def exp_mod(a:int , b:int, n:int) -> int:\n",
    "    if a < 0 or b < 0 or n <= 0: raise Exception(\"Error de argumentos\")\n",
    "    if b == 0:\n",
    "        return 1\n",
    "    elif (b % 2) == 0:\n",
    "        t = exp_mod(a, b//2, n)\n",
    "        return (t*t) % n\n",
    "    else:\n",
    "        t = exp_mod(a, (b-1) // 2, n)\n",
    "        return (t*t*a) % n\n",
    "\n",
    "def expo(a:int , b:int) -> int:\n",
    "    if b == 0:\n",
    "        return 1\n",
    "    elif (b % 2) == 0:\n",
    "        t = expo(a, b//2)\n",
    "        return (t*t)\n",
    "    else:\n",
    "        t = expo(a, (b-1) // 2)\n",
    "        return (t*t*a)"
   ]
  },
  {
   "cell_type": "code",
   "execution_count": 3,
   "metadata": {},
   "outputs": [],
   "source": [
    "def inverso(a:int, n:int) -> int:\n",
    "    if n < 2: raise Exception(\"n tiene que ser mayor o igual a 2\")\n",
    "    if a < 2: raise Exception(\"a tiene que ser mayor o igual a 1\")\n",
    "    if a > n:\n",
    "        mcd, s, t = alg_ext_euclides(a,n)\n",
    "        if mcd != 1: raise Exception(\"los inputs tienen que ser primos relativos\")\n",
    "        # Si tenemos que el inverso es negativo hay que pasarlo a su positivo en modulo n\n",
    "        if s < 0: \n",
    "            s = n + s\n",
    "        return s\n",
    "    else:\n",
    "        mcd, s, t = alg_ext_euclides(n,a)\n",
    "        if t < 0:\n",
    "            t = n + t\n",
    "        if mcd != 1: raise Exception(\"los inputs tienen que ser primos relativos\")\n",
    "        return t"
   ]
  },
  {
   "cell_type": "code",
   "execution_count": 4,
   "metadata": {},
   "outputs": [],
   "source": [
    "def generar_clave(l:int):\n",
    "    p = generar_primo(l)\n",
    "    q = generar_primo(l)\n",
    "    n = p * q\n",
    "    phin = (p-1)*(q-1)\n",
    "    while True:\n",
    "        d = random.randint(1, phin)\n",
    "        mcd, _, _ = alg_ext_euclides(phin, d)\n",
    "        if mcd == 1:\n",
    "            break\n",
    "    e = inverso(d, phin)\n",
    "    with open(\"private_key.txt\", \"w\") as file:\n",
    "        file.write(f\"{d}\\n\")\n",
    "        file.write(f\"{n}\\n\")\n",
    "    with open(\"public_key.txt\", \"w\") as file:\n",
    "        file.write(f\"{e}\\n\")\n",
    "        file.write(f\"{n}\\n\")\n",
    "\n",
    "def enc(m: int) -> int:\n",
    "    with open(\"public_key.txt\", \"r\") as file:\n",
    "        lines = file.readlines()\n",
    "        e = int(lines[0].strip())\n",
    "        n = int(lines[1].strip())\n",
    "    if m >= n: raise Exception(\"el mensaje es más largo que n\")\n",
    "    return exp_mod(m, e, n)\n",
    "\n",
    "def dec(m: int) -> int:\n",
    "    with open(\"private_key.txt\", \"r\") as file:\n",
    "        lines = file.readlines()\n",
    "        d = int(lines[0].strip())\n",
    "        n = int(lines[1].strip())\n",
    "    if m >= n: raise Exception(\"el mensaje es más largo que n\")\n",
    "    return exp_mod(m, d, n)"
   ]
  },
  {
   "source": [
    "Descomentar las siguientes lineas para probarlo, ojo que con 200 por consola me tiraba recursion error pero en jupyter me funcionaba bien... con 150 funciona en las dos, creo que tiene que ver con alguna configuración de mi pc"
   ],
   "cell_type": "markdown",
   "metadata": {}
  },
  {
   "cell_type": "code",
   "execution_count": 10,
   "metadata": {},
   "outputs": [
    {
     "output_type": "stream",
     "name": "stdout",
     "text": [
      "True\n"
     ]
    }
   ],
   "source": [
    "#generar_clave(300)\n",
    "#encoded = enc(323123)\n",
    "#decoded = dec(encoded)\n",
    "#print(323123 == decoded)"
   ]
  },
  {
   "cell_type": "code",
   "execution_count": null,
   "metadata": {},
   "outputs": [],
   "source": []
  }
 ]
}