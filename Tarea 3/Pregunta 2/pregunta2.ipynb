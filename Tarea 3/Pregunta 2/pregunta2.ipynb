{
 "metadata": {
  "language_info": {
   "codemirror_mode": {
    "name": "ipython",
    "version": 3
   },
   "file_extension": ".py",
   "mimetype": "text/x-python",
   "name": "python",
   "nbconvert_exporter": "python",
   "pygments_lexer": "ipython3",
   "version": "3.8.10"
  },
  "orig_nbformat": 4,
  "kernelspec": {
   "name": "python3",
   "display_name": "Python 3.8.10 64-bit"
  },
  "interpreter": {
   "hash": "2b15d798df52e248af9cbc2fd5307d41da896353731254caa69567186e2e1549"
  }
 },
 "nbformat": 4,
 "nbformat_minor": 2,
 "cells": [
  {
   "cell_type": "code",
   "execution_count": 8,
   "metadata": {},
   "outputs": [],
   "source": [
    "import math\n",
    "from libraries import *"
   ]
  },
  {
   "cell_type": "code",
   "execution_count": 14,
   "metadata": {},
   "outputs": [],
   "source": [
    "def md5(msj: str) -> (int):\n",
    "    return int(custom_md5(msj), 16)\n",
    "    \n",
    "def obtain_given_numbers(text_file):\n",
    "    with open(text_file, \"r\") as file:\n",
    "        lines = [line.strip().replace(\" \",\"\") for line in file.readlines()]\n",
    "        lines = [int(line, 16) for line in lines]\n",
    "    return lines"
   ]
  },
  {
   "cell_type": "code",
   "execution_count": 15,
   "metadata": {},
   "outputs": [],
   "source": [
    "def generar_clave_ElGamal():\n",
    "    p, g, q = obtain_given_numbers(\"grupo.txt\")\n",
    "    x = random.randint(1, q-1)  # private_key\n",
    "    y = exp_mod(g, x, p) # public_key\n",
    "    with open(\"private_key.txt\", \"w\") as file:\n",
    "        file.write(f\"{x}\\n\")\n",
    "    with open(\"public_key.txt\", \"w\") as file:\n",
    "        file.write(f\"{y}\\n\")\n"
   ]
  },
  {
   "cell_type": "code",
   "execution_count": 16,
   "metadata": {},
   "outputs": [],
   "source": [
    "def firmar_Schnorr(m: str) -> (int, int):\n",
    "    with open(\"private_key.txt\", \"r\") as file:\n",
    "      x = int(file.readline().strip())\n",
    "    p, g, q = obtain_given_numbers(\"grupo.txt\")\n",
    "    k = random.randint(1, q-1)\n",
    "    r = exp_mod(g, k, p)\n",
    "    r_concat_m = str(r) + m\n",
    "    e = md5(r_concat_m)\n",
    "    s = k - x * e\n",
    "    return (e,s)"
   ]
  },
  {
   "cell_type": "code",
   "execution_count": 17,
   "metadata": {},
   "outputs": [],
   "source": [
    "def verificar_firma_Schnorr(m: str, firma: (int, int)) -> bool:\n",
    "    p, g, q = obtain_given_numbers(\"grupo.txt\")\n",
    "    with open(\"public_key.txt\", \"r\") as file:\n",
    "      y = int(file.readline().strip())\n",
    "    e, s = firma\n",
    "    # s es negativo asi que necesitamos el inverso modular de g\n",
    "    if s < 0:\n",
    "      inv_g = inverso(g, p)\n",
    "      first_argument = exp_mod(inv_g, int(-s), p)\n",
    "    else: \n",
    "      first_argument = exp_mod(g, -s, p)\n",
    "    r_prima = (first_argument * exp_mod(y, e, p)) % p\n",
    "    h_prima = md5(str(r_prima) + m) \n",
    "    return h_prima == e"
   ]
  },
  {
   "cell_type": "code",
   "execution_count": 19,
   "metadata": {},
   "outputs": [
    {
     "output_type": "stream",
     "name": "stdout",
     "text": [
      "True\nFalse\n"
     ]
    }
   ],
   "source": [
    "# Para probar.\n",
    "# generar_clave_ElGamal()\n",
    "# msj = \"hola xdfdsafdsa\"\n",
    "# firma = firmar_Schnorr(msj)\n",
    "# print (verificar_firma_Schnorr(msj, firma))\n",
    "# print (verificar_firma_Schnorr(\"XZDD\", firma))\n"
   ]
  },
  {
   "cell_type": "code",
   "execution_count": null,
   "metadata": {},
   "outputs": [],
   "source": []
  }
 ]
}